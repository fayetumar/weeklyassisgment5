{
 "cells": [
  {
   "cell_type": "markdown",
   "metadata": {},
   "source": [
    "Server Operations Using Python's Psycopg2¶"
   ]
  },
  {
   "cell_type": "code",
   "execution_count": 1,
   "metadata": {},
   "outputs": [],
   "source": [
    "import pandas as pd\n",
    "import psycopg2\n",
    "\n",
    "CONNECT_DB = \"host=localhost port=5432 dbname=cloud_user user=cloud_user password=cloud_user\""
   ]
  },
  {
   "cell_type": "markdown",
   "metadata": {},
   "source": [
    "Create Table"
   ]
  },
  {
   "cell_type": "code",
   "execution_count": 2,
   "metadata": {},
   "outputs": [
    {
     "name": "stdout",
     "output_type": "stream",
     "text": [
      "PostgreSQL connection is closed\n",
      "Record:\n",
      " None\n"
     ]
    }
   ],
   "source": [
    "create_table_query = '''CREATE TABLE banksim (\n",
    "    step integer,\n",
    "    customer varchar(25),\n",
    "    age varchar(25),\n",
    "    gender varchar(25),\n",
    "    zipcodeOri varchar(25),\n",
    "    merchant varchar(25),\n",
    "    zipMerchant varchar(25),\n",
    "    category varchar(25),\n",
    "    amount numeric,\n",
    "    fraud integer\n",
    "); '''\n",
    "\n",
    "try:\n",
    "    #make connect db\n",
    "    cnx = psycopg2.connect(CONNECT_DB)\n",
    "\n",
    "    # Create a cursor to db\n",
    "    cur = cnx.cursor()\n",
    "\n",
    "    # Send sql query to request\n",
    "    cur.execute(create_table_query)\n",
    "    records = cnx.commit()\n",
    "\n",
    "except (Exception, psycopg2.Error) as error :\n",
    "    print(\"Error while connecting to PostgreSQL\", error)\n",
    "\n",
    "finally:\n",
    "    #closing database connection\n",
    "    if(cnx):\n",
    "        cur.close()\n",
    "        cnx.close()\n",
    "        print(\"PostgreSQL connection is closed\")\n",
    "\n",
    "print(f'Record:\\n {records}')"
   ]
  },
  {
   "cell_type": "markdown",
   "metadata": {},
   "source": [
    "Add The Data to Table"
   ]
  },
  {
   "cell_type": "code",
   "execution_count": 4,
   "metadata": {},
   "outputs": [
    {
     "name": "stdout",
     "output_type": "stream",
     "text": [
      "PostgreSQL connection is closed\n",
      "tips table populated\n"
     ]
    }
   ],
   "source": [
    "try:\n",
    "    # Make connection to db\n",
    "    cxn = psycopg2.connect(CONNECT_DB)\n",
    "    \n",
    "    # Create a cursor to db\n",
    "    cur = cxn.cursor()\n",
    "    \n",
    "    with open('./bs140513_032310.csv', 'r') as f:\n",
    "        # skip first row, header row\n",
    "        next(f)\n",
    "        cur.copy_from(f, 'banksim', sep=\",\")\n",
    "        cxn.commit()\n",
    "\n",
    "except (Exception, psycopg2.Error) as error :\n",
    "    print (\"Error while connecting to PostgreSQL\", error)\n",
    "    \n",
    "finally:\n",
    "    #closing database connection.\n",
    "    if(cxn):\n",
    "        cur.close()\n",
    "        cxn.close()\n",
    "        print(\"PostgreSQL connection is closed\")\n",
    "        print(\"tips table populated\")"
   ]
  },
  {
   "cell_type": "code",
   "execution_count": null,
   "metadata": {},
   "outputs": [],
   "source": []
  },
  {
   "cell_type": "markdown",
   "metadata": {},
   "source": [
    "Selecting Data From a Server\n",
    "\n",
    "Use .fetchall() with LIMIT or TOP(#)\n",
    " - LIMIT works for most databases, but does not work with SQL Server\n",
    " - TOP (#) is used in place of LIMIT on SQL Server"
   ]
  },
  {
   "cell_type": "code",
   "execution_count": 14,
   "metadata": {},
   "outputs": [],
   "source": [
    "def db_server_fetch(sql_query):\n",
    "    try:\n",
    "        # Make connection db\n",
    "        cnx = psycopg2.connect(CONNECT_DB)\n",
    "\n",
    "        # Create a cursor to db\n",
    "        cur = cnx.cursor()\n",
    "\n",
    "        # Send sql query to request\n",
    "        cur.execute(sql_query)\n",
    "        records = cur.fetchall()\n",
    "\n",
    "    except (Exception, psycopg2.Error) as error :\n",
    "        print(\"Error while connecting to PostgreSQL\", error)\n",
    "\n",
    "    finally:\n",
    "        #closing database connection\n",
    "        if(cnx):\n",
    "            cur.close()\n",
    "            cnx.close()\n",
    "            print(\"PostgreSQL connection is closed\")\n",
    "        return records"
   ]
  },
  {
   "cell_type": "code",
   "execution_count": 28,
   "metadata": {},
   "outputs": [
    {
     "name": "stdout",
     "output_type": "stream",
     "text": [
      "PostgreSQL connection is closed\n",
      "[(0, 'C927282395', '4', 'F', 'M85975013', 'es_food', Decimal('66.52'), 0), (0, 'C352968107', '2', 'M', 'M348934600', 'es_transportation', Decimal('39.68'), 0), (0, 'C210584188', '4', 'M', 'M732195782', 'es_travel', Decimal('1993.68'), 0), (0, 'C927766810', '3', 'F', 'M348934600', 'es_transportation', Decimal('2.74'), 0), (0, 'C608547225', '2', 'F', 'M855959430', 'es_hyper', Decimal('76.51'), 0)]\n"
     ]
    }
   ],
   "source": [
    "select_query = '''SELECT * FROM banksim LIMIT 5;'''\n",
    "\n",
    "records = db_server_fetch(select_query)\n",
    "print(records)"
   ]
  },
  {
   "cell_type": "code",
   "execution_count": 29,
   "metadata": {},
   "outputs": [
    {
     "data": {
      "text/plain": [
       "[(0, 'C927282395', '4', 'F', 'M85975013', 'es_food', Decimal('66.52'), 0),\n",
       " (0,\n",
       "  'C352968107',\n",
       "  '2',\n",
       "  'M',\n",
       "  'M348934600',\n",
       "  'es_transportation',\n",
       "  Decimal('39.68'),\n",
       "  0),\n",
       " (0, 'C210584188', '4', 'M', 'M732195782', 'es_travel', Decimal('1993.68'), 0),\n",
       " (0,\n",
       "  'C927766810',\n",
       "  '3',\n",
       "  'F',\n",
       "  'M348934600',\n",
       "  'es_transportation',\n",
       "  Decimal('2.74'),\n",
       "  0),\n",
       " (0, 'C608547225', '2', 'F', 'M855959430', 'es_hyper', Decimal('76.51'), 0)]"
      ]
     },
     "execution_count": 29,
     "metadata": {},
     "output_type": "execute_result"
    }
   ],
   "source": [
    "records"
   ]
  },
  {
   "cell_type": "markdown",
   "metadata": {},
   "source": [
    "Delete quotes from colomn\n"
   ]
  },
  {
   "cell_type": "code",
   "execution_count": 21,
   "metadata": {},
   "outputs": [
    {
     "name": "stdout",
     "output_type": "stream",
     "text": [
      "Quotes successfully removed from multiple columns.\n"
     ]
    }
   ],
   "source": [
    "def remove_quotes_from_column():\n",
    "    try:\n",
    "        # Make connection db\n",
    "        cnx = psycopg2.connect(CONNECT_DB)\n",
    "\n",
    "        # Create a cursor to db\n",
    "        cur = cnx.cursor()\n",
    "\n",
    "        # SQL command to remove quotes from multiple columns\n",
    "        update_query = \"\"\"\n",
    "            UPDATE banksim\n",
    "            SET \n",
    "                customer = REPLACE(customer, '''', ''),\n",
    "                age = REPLACE(age, '''', ''),\n",
    "                gender = REPLACE(gender, '''', ''),\n",
    "                zipcodeOri = REPLACE(zipcodeOri, '''', ''),\n",
    "                merchant = REPLACE(merchant, '''', ''),\n",
    "                zipMerchant = REPLACE(zipMerchant, '''', ''),\n",
    "                category = REPLACE(category, '''', '')\n",
    "            WHERE \n",
    "                customer LIKE '%''%' OR\n",
    "                age LIKE '%''%' OR\n",
    "                gender LIKE '%''%' OR\n",
    "                zipcodeOri LIKE '%''%' OR\n",
    "                merchant LIKE '%''%' OR\n",
    "                zipMerchant LIKE '%''%' OR\n",
    "                category LIKE '%''%';\n",
    "        \"\"\"\n",
    "        # Send sql query to request\n",
    "        cur.execute(update_query)\n",
    "\n",
    "        # Commit the changes to the database\n",
    "        cnx.commit()\n",
    "\n",
    "    except (Exception, psycopg2.Error) as error :\n",
    "        print(\"Error while connecting to PostgreSQL\", error)  \n",
    "\n",
    "    finally:\n",
    "        #closing database connection\n",
    "        if(cnx):\n",
    "            cur.close()\n",
    "            cnx.close()\n",
    "            print(\"Quotes successfully removed from multiple columns.\")  \n",
    "\n",
    "# Call the function to remove quotes from multiple columns\n",
    "remove_quotes_from_column()"
   ]
  },
  {
   "cell_type": "markdown",
   "metadata": {},
   "source": [
    "Delete colomn zipcodeori dan zipmerchant karena nilainya sama semua"
   ]
  },
  {
   "cell_type": "code",
   "execution_count": 27,
   "metadata": {},
   "outputs": [
    {
     "name": "stdout",
     "output_type": "stream",
     "text": [
      "Columns 'zipcodeOri' and 'zipMerchant' dropped successfully.\n"
     ]
    }
   ],
   "source": [
    "def drop_columns():\n",
    "    try:\n",
    "        # Make connection db\n",
    "        cnx = psycopg2.connect(CONNECT_DB)\n",
    "\n",
    "        # Create a cursor to db\n",
    "        cur = cnx.cursor()\n",
    "\n",
    "        # SQL command to drop columns from the table\n",
    "        drop_query = \"\"\"\n",
    "            ALTER TABLE banksim\n",
    "            DROP COLUMN IF EXISTS zipcodeOri,\n",
    "            DROP COLUMN IF EXISTS zipMerchant;\n",
    "        \"\"\"\n",
    "\n",
    "        # Send sql query to request\n",
    "        cur.execute(drop_query)\n",
    "\n",
    "        # Commit the changes to the database\n",
    "        cnx.commit()\n",
    "\n",
    "    except (Exception, psycopg2.Error) as error :\n",
    "        print(\"Error while connecting to PostgreSQL\", error)  \n",
    "\n",
    "    finally:\n",
    "        #closing database connection\n",
    "        if(cnx):\n",
    "            cur.close()\n",
    "            cnx.close()\n",
    "            print(\"Columns 'zipcodeOri' and 'zipMerchant' dropped successfully.\")\n",
    "\n",
    "drop_columns()\n",
    "        "
   ]
  },
  {
   "cell_type": "code",
   "execution_count": 31,
   "metadata": {},
   "outputs": [
    {
     "data": {
      "text/html": [
       "<div>\n",
       "<style scoped>\n",
       "    .dataframe tbody tr th:only-of-type {\n",
       "        vertical-align: middle;\n",
       "    }\n",
       "\n",
       "    .dataframe tbody tr th {\n",
       "        vertical-align: top;\n",
       "    }\n",
       "\n",
       "    .dataframe thead th {\n",
       "        text-align: right;\n",
       "    }\n",
       "</style>\n",
       "<table border=\"1\" class=\"dataframe\">\n",
       "  <thead>\n",
       "    <tr style=\"text-align: right;\">\n",
       "      <th></th>\n",
       "      <th>step</th>\n",
       "      <th>customer</th>\n",
       "      <th>age</th>\n",
       "      <th>gender</th>\n",
       "      <th>merchant</th>\n",
       "      <th>category</th>\n",
       "      <th>amount</th>\n",
       "      <th>fraud</th>\n",
       "    </tr>\n",
       "  </thead>\n",
       "  <tbody>\n",
       "    <tr>\n",
       "      <th>0</th>\n",
       "      <td>0</td>\n",
       "      <td>C927282395</td>\n",
       "      <td>4</td>\n",
       "      <td>F</td>\n",
       "      <td>M85975013</td>\n",
       "      <td>es_food</td>\n",
       "      <td>66.52</td>\n",
       "      <td>0</td>\n",
       "    </tr>\n",
       "    <tr>\n",
       "      <th>1</th>\n",
       "      <td>0</td>\n",
       "      <td>C352968107</td>\n",
       "      <td>2</td>\n",
       "      <td>M</td>\n",
       "      <td>M348934600</td>\n",
       "      <td>es_transportation</td>\n",
       "      <td>39.68</td>\n",
       "      <td>0</td>\n",
       "    </tr>\n",
       "    <tr>\n",
       "      <th>2</th>\n",
       "      <td>0</td>\n",
       "      <td>C210584188</td>\n",
       "      <td>4</td>\n",
       "      <td>M</td>\n",
       "      <td>M732195782</td>\n",
       "      <td>es_travel</td>\n",
       "      <td>1993.68</td>\n",
       "      <td>0</td>\n",
       "    </tr>\n",
       "    <tr>\n",
       "      <th>3</th>\n",
       "      <td>0</td>\n",
       "      <td>C927766810</td>\n",
       "      <td>3</td>\n",
       "      <td>F</td>\n",
       "      <td>M348934600</td>\n",
       "      <td>es_transportation</td>\n",
       "      <td>2.74</td>\n",
       "      <td>0</td>\n",
       "    </tr>\n",
       "    <tr>\n",
       "      <th>4</th>\n",
       "      <td>0</td>\n",
       "      <td>C608547225</td>\n",
       "      <td>2</td>\n",
       "      <td>F</td>\n",
       "      <td>M855959430</td>\n",
       "      <td>es_hyper</td>\n",
       "      <td>76.51</td>\n",
       "      <td>0</td>\n",
       "    </tr>\n",
       "  </tbody>\n",
       "</table>\n",
       "</div>"
      ],
      "text/plain": [
       "   step    customer age gender    merchant           category   amount  fraud\n",
       "0     0  C927282395   4      F   M85975013            es_food    66.52      0\n",
       "1     0  C352968107   2      M  M348934600  es_transportation    39.68      0\n",
       "2     0  C210584188   4      M  M732195782          es_travel  1993.68      0\n",
       "3     0  C927766810   3      F  M348934600  es_transportation     2.74      0\n",
       "4     0  C608547225   2      F  M855959430           es_hyper    76.51      0"
      ]
     },
     "execution_count": 31,
     "metadata": {},
     "output_type": "execute_result"
    }
   ],
   "source": [
    "df = pd.DataFrame(records, columns=[\"step\",\"customer\",\"age\",\"gender\",\"merchant\",\"category\",\"amount\",\"fraud\"])\n",
    "\n",
    "# Print the DataFrame\n",
    "df"
   ]
  },
  {
   "cell_type": "markdown",
   "metadata": {},
   "source": [
    "Setelah data ditransform langkah berikutnya adalah memindahkan data dari postgresql ke gcs dengan langkah pernama membuat file csv dari data yang sudah ditransform dengan code berikut\n",
    "\n",
    "COPY (SELECT * FROM banksim) TO './banksim.csv' WITH CSV HEADER;\n"
   ]
  },
  {
   "cell_type": "code",
   "execution_count": null,
   "metadata": {},
   "outputs": [],
   "source": []
  }
 ],
 "metadata": {
  "kernelspec": {
   "display_name": "Python 3",
   "language": "python",
   "name": "python3"
  },
  "language_info": {
   "codemirror_mode": {
    "name": "ipython",
    "version": 3
   },
   "file_extension": ".py",
   "mimetype": "text/x-python",
   "name": "python",
   "nbconvert_exporter": "python",
   "pygments_lexer": "ipython3",
   "version": "3.10.12"
  }
 },
 "nbformat": 4,
 "nbformat_minor": 2
}
